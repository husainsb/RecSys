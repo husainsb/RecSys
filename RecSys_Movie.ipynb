{
  "nbformat": 4,
  "nbformat_minor": 0,
  "metadata": {
    "colab": {
      "provenance": []
    },
    "kernelspec": {
      "name": "python3",
      "display_name": "Python 3"
    },
    "language_info": {
      "name": "python"
    }
  },
  "cells": [
    {
      "cell_type": "markdown",
      "source": [
        "# Hybrid Recommendation System using MovieLens 1M Dataset with Spark ALS, Spark TF-IDF, FAISS (HNSW) and Cold-Start Handling\n"
      ],
      "metadata": {
        "id": "rfT9wiLt9GAO"
      }
    },
    {
      "cell_type": "markdown",
      "source": [
        "Load packages"
      ],
      "metadata": {
        "id": "mvi5cmdy9OTJ"
      }
    },
    {
      "cell_type": "code",
      "source": [
        "#\n",
        "import pandas as pd\n",
        "import numpy as np\n",
        "from pyspark.sql import SparkSession\n",
        "from pyspark.ml.recommendation import ALS\n",
        "from pyspark.sql.functions import avg, col, lit, expr, row_number, collect_list, size, array_contains, monotonically_increasing_id, udf, explode, min as spark_min, max as spark_max,countDistinct, when, isnan\n",
        "from pyspark.sql.window import Window\n",
        "from pyspark.ml.feature import Tokenizer, HashingTF, IDF\n",
        "from pyspark.sql.types import FloatType, DoubleType\n",
        "from pyspark.ml.linalg import SparseVector, Vectors\n",
        "from pyspark.ml.tuning import CrossValidator, ParamGridBuilder\n",
        "from pyspark.ml.evaluation import BinaryClassificationEvaluator, RegressionEvaluator\n",
        "from sklearn.preprocessing import normalize\n",
        "import faiss\n",
        "from collections import defaultdict"
      ],
      "metadata": {
        "id": "vfJHn1REv_h6"
      },
      "execution_count": 15,
      "outputs": []
    },
    {
      "cell_type": "markdown",
      "source": [
        "## Read data and initiate Spark session"
      ],
      "metadata": {
        "id": "bPp2wZ2AMZQi"
      }
    },
    {
      "cell_type": "code",
      "source": [
        "# Initialize Spark\n",
        "spark = SparkSession.builder.appName(\"HybridRecommender\").getOrCreate()\n",
        "\n",
        "# Load Ratings and Movies Data into Pandas, then convert to Spark DataFrames\n",
        "ratings_pd = pd.read_csv('./sample_data/ratings.dat', sep='::', names=['user_id', 'movie_id', 'rating', 'timestamp'], engine='python')\n",
        "movies_pd = pd.read_csv('./sample_data/movies.dat', sep='::', names=['movie_id', 'title', 'genres'], engine='python',encoding='latin-1')\n",
        "\n",
        "# Remove special chars, else words will be broken into sub-words\n",
        "movies_pd['genres'] = movies_pd['genres'].str.replace('Sci-Fi','SciFi')\n",
        "movies_pd['genres'] = movies_pd['genres'].str.replace('Film-Noir','Noir')\n",
        "\n",
        "ratings = spark.createDataFrame(ratings_pd[['user_id', 'movie_id', 'rating']])\n",
        "movies = spark.createDataFrame(movies_pd)\n",
        "\n",
        "# Split ratings into train and test\n",
        "train_ratings, test_ratings = ratings.randomSplit([0.8,0.2])"
      ],
      "metadata": {
        "id": "MMyQrPPfwSNQ"
      },
      "execution_count": 4,
      "outputs": []
    },
    {
      "cell_type": "markdown",
      "source": [
        "## Collaborative Filtering RS"
      ],
      "metadata": {
        "id": "2TohWACC-alU"
      }
    },
    {
      "cell_type": "markdown",
      "source": [
        "Cross Validation on ALS using Grid Search"
      ],
      "metadata": {
        "id": "eW7S9-3s9oow"
      }
    },
    {
      "cell_type": "code",
      "source": [
        "als = ALS(userCol='user_id',itemCol='movie_id',ratingCol='rating',coldStartStrategy=\"drop\",implicitPrefs=False,\n",
        "          seed=32,maxIter=20)\n",
        "\n",
        "\n",
        "# Define parameters to search on\n",
        "paramGrid = ParamGridBuilder() \\\n",
        "    .addGrid(als.regParam, [1, 0.1, 0.01,0.05]) \\\n",
        "    .addGrid(als.rank, [10, 20,30]) \\\n",
        "    .build()\n"
      ],
      "metadata": {
        "id": "rqEwY7x7Uvt6"
      },
      "execution_count": 5,
      "outputs": []
    },
    {
      "cell_type": "code",
      "source": [
        "# Create CV\n",
        "crossval = CrossValidator(estimator=als,\n",
        "                          estimatorParamMaps=paramGrid,\n",
        "                          evaluator=RegressionEvaluator(predictionCol=\"prediction\", labelCol=\"rating\", metricName=\"mae\"),\n",
        "                          numFolds=3,parallelism=4)"
      ],
      "metadata": {
        "id": "0i3UdPKEUvt8"
      },
      "execution_count": 6,
      "outputs": []
    },
    {
      "cell_type": "code",
      "source": [
        "# Fit CV on training set of Ratings\n",
        "cv_model = crossval.fit(train_ratings)"
      ],
      "metadata": {
        "id": "CXP0o50gUvt9"
      },
      "execution_count": 7,
      "outputs": []
    },
    {
      "cell_type": "code",
      "source": [
        "# Extract best performing parameters\n",
        "best_rank = cv_model.bestModel._java_obj.parent().getRank()\n",
        "best_regParam = cv_model.bestModel._java_obj.parent().getRegParam()\n",
        "best_model_params = {'rank': best_rank, 'regParam': best_regParam}"
      ],
      "metadata": {
        "id": "dOQAetR2Uvt9"
      },
      "execution_count": 8,
      "outputs": []
    },
    {
      "cell_type": "code",
      "source": [
        "print(f\"Best rank: {best_rank}\")\n",
        "print(f\"Best regParam: {best_regParam}\")"
      ],
      "metadata": {
        "colab": {
          "base_uri": "https://localhost:8080/"
        },
        "outputId": "80b0aa7a-ad67-4e19-c38a-956f9b51e08c",
        "id": "Xg7fwq1MUvt9"
      },
      "execution_count": 9,
      "outputs": [
        {
          "output_type": "stream",
          "name": "stdout",
          "text": [
            "Best rank: 10\n",
            "Best regParam: 0.05\n"
          ]
        }
      ]
    },
    {
      "cell_type": "code",
      "source": [
        "cv_model.avgMetrics #avg MAE across all model params combo"
      ],
      "metadata": {
        "colab": {
          "base_uri": "https://localhost:8080/"
        },
        "outputId": "0e8a2b1e-c94c-4fc8-ae06-76901e2952c0",
        "id": "p8Egf4NiUvt-"
      },
      "execution_count": 10,
      "outputs": [
        {
          "output_type": "execute_result",
          "data": {
            "text/plain": [
              "[np.float64(1.1645400338999485),\n",
              " np.float64(1.1645400336655698),\n",
              " np.float64(1.164540033476987),\n",
              " np.float64(0.6932183878525519),\n",
              " np.float64(0.6941108844502475),\n",
              " np.float64(0.6949633033091386),\n",
              " np.float64(0.7267621518424024),\n",
              " np.float64(0.7851407508974715),\n",
              " np.float64(0.8226668496567205),\n",
              " np.float64(0.690404391999493),\n",
              " np.float64(0.7011506360011271),\n",
              " np.float64(0.7068420881571496)]"
            ]
          },
          "metadata": {},
          "execution_count": 10
        }
      ]
    },
    {
      "cell_type": "code",
      "source": [
        "# train best ALS\n",
        "als = ALS(userCol='user_id',itemCol='movie_id',ratingCol='rating', \\\n",
        "          rank=best_model_params.get('rank'), \\\n",
        "          regParam=best_model_params.get('regParam'), \\\n",
        "          coldStartStrategy=\"drop\",\n",
        "          implicitPrefs=False)\n",
        "\n",
        "model_cf = als.fit(train_ratings)"
      ],
      "metadata": {
        "id": "qq2dvWFfUvt-"
      },
      "execution_count": 20,
      "outputs": []
    },
    {
      "cell_type": "markdown",
      "source": [
        "Calculate 100 recommendations for all users at one go"
      ],
      "metadata": {
        "id": "fEGK4dKa-Wpt"
      }
    },
    {
      "cell_type": "code",
      "source": [
        "user_recs = model_cf.recommendForAllUsers(100)\n",
        "user_recs = user_recs.selectExpr(\"user_id\", \"explode(recommendations) as rec\")\n",
        "user_recs = user_recs.selectExpr(\"user_id\", \"rec.movie_id as movie_id\", \"rec.rating as cf_score\")\n"
      ],
      "metadata": {
        "id": "nbb4okmGVHM3"
      },
      "execution_count": 21,
      "outputs": []
    },
    {
      "cell_type": "code",
      "source": [
        "user_recs.groupBy(\"user_id\").count().show(5)"
      ],
      "metadata": {
        "colab": {
          "base_uri": "https://localhost:8080/"
        },
        "id": "L014-MP1Y-Wm",
        "outputId": "a3e4c801-d145-4b45-8aa1-d241f73bb453"
      },
      "execution_count": 22,
      "outputs": [
        {
          "output_type": "stream",
          "name": "stdout",
          "text": [
            "+-------+-----+\n",
            "|user_id|count|\n",
            "+-------+-----+\n",
            "|    148|  100|\n",
            "|    463|  100|\n",
            "|    471|  100|\n",
            "|    496|  100|\n",
            "|    833|  100|\n",
            "+-------+-----+\n",
            "only showing top 5 rows\n",
            "\n"
          ]
        }
      ]
    },
    {
      "cell_type": "markdown",
      "source": [
        "## Content Based Filtering (CBF) RS"
      ],
      "metadata": {
        "id": "RelILwle-0v7"
      }
    },
    {
      "cell_type": "markdown",
      "source": [
        "Using Spark ML TF-IDF vectorization technique on movie **Genre** and storing it into FAISS HNSW vector store"
      ],
      "metadata": {
        "id": "5cdJM0jG-8ge"
      }
    },
    {
      "cell_type": "code",
      "source": [
        "# Spark TF-IDF on Genres\n",
        "movies = movies.withColumn(\"genres\", expr(\"translate(genres, '|', ' ')\"))\n",
        "tokenizer = Tokenizer(inputCol=\"genres\", outputCol=\"words\")\n",
        "words_data = tokenizer.transform(movies)\n",
        "\n",
        "hashing_tf = HashingTF(inputCol=\"words\", outputCol=\"rawFeatures\", numFeatures=20)\n",
        "featurized_data = hashing_tf.transform(words_data)\n",
        "\n",
        "idf = IDF(inputCol=\"rawFeatures\", outputCol=\"features\")\n",
        "idf_model = idf.fit(featurized_data)\n",
        "rescaled_data = idf_model.transform(featurized_data)\n",
        "\n",
        "# FAISS Index for scalable content-based retrieval\n",
        "# Convert Spark TF-IDF features to NumPy\n",
        "\n",
        "movie_features_pd = rescaled_data.select(\"movie_id\", \"features\").rdd.map(lambda row: (row[0], row[1].toArray())).collect()\n",
        "movie_ids, features = zip(*movie_features_pd)\n",
        "features = np.vstack(features).astype('float32')\n",
        "\n",
        "#Normalize features for cosine similarity\n",
        "features_norm = normalize(features, axis=1, norm='l2').astype('float32')\n",
        "\n",
        "# Create FAISS HNSW index using dot product (cosine similarity)\n",
        "dimension = features_norm.shape[1]\n",
        "index = faiss.IndexHNSWFlat(dimension, 32,faiss.METRIC_INNER_PRODUCT)  # 32 = #neighbors in HNSW\n",
        "index.hnsw.efConstruction = 40\n",
        "index.add(features_norm)\n",
        "\n",
        "# Search top-k similar movies for each item\n",
        "k_similar = 100\n",
        "# Recommend similar movies using FAISS for new movies\n",
        "faiss_neighbors = {}\n",
        "# Compute average cosine similarity per movie (excluding self)\n",
        "cbf_score_map = defaultdict(float)\n",
        "for i, vec in enumerate(features_norm):\n",
        "    D, I = index.search(np.array([vec]).astype('float32'), k_similar)\n",
        "    faiss_neighbors[movie_ids[i]] = [movie_ids[j] for j in I[0] if movie_ids[j] != movie_ids[i]]\n",
        "    sim_sum = 0.0\n",
        "    count = 0\n",
        "    for j, dist in zip(I[0], D[0]):\n",
        "        if movie_ids[i] != movie_ids[j]:\n",
        "            sim_sum += dist\n",
        "            count += 1\n",
        "    #avg cosine-similiarities for each movie\n",
        "    if count > 0:\n",
        "        cbf_score_map[movie_ids[i]] = sim_sum / count\n",
        "    else:\n",
        "      cbf_score_map[movie_ids[i]]=0.0\n",
        "\n",
        "# Convert to Spark DataFrame\n",
        "cbf_scores_pd = pd.DataFrame(list(cbf_score_map.items()), columns=[\"movie_id\", \"cbf_score\"])\n",
        "cbf_scores_sdf = spark.createDataFrame(cbf_scores_pd)\n"
      ],
      "metadata": {
        "id": "_BILZVfBwg9j",
        "colab": {
          "base_uri": "https://localhost:8080/"
        },
        "outputId": "90dedf77-6807-43f9-a243-7d6c11c27fa9"
      },
      "execution_count": 56,
      "outputs": [
        {
          "output_type": "stream",
          "name": "stderr",
          "text": [
            "<ipython-input-56-610b1dffb554>:42: RuntimeWarning: overflow encountered in scalar add\n",
            "  sim_sum += dist\n"
          ]
        }
      ]
    },
    {
      "cell_type": "code",
      "source": [
        "cbf_scores_pd['cbf_score'].describe()"
      ],
      "metadata": {
        "colab": {
          "base_uri": "https://localhost:8080/",
          "height": 331
        },
        "id": "yS4MxeGhEV2J",
        "outputId": "3cf25ff1-9cf2-4072-9861-7da3b8248ed9"
      },
      "execution_count": 57,
      "outputs": [
        {
          "output_type": "execute_result",
          "data": {
            "text/plain": [
              "count    3883.000000\n",
              "mean            -inf\n",
              "std              NaN\n",
              "min             -inf\n",
              "25%         0.954243\n",
              "50%         1.000000\n",
              "75%         1.000000\n",
              "max         1.000000\n",
              "Name: cbf_score, dtype: float64"
            ],
            "text/html": [
              "<div>\n",
              "<style scoped>\n",
              "    .dataframe tbody tr th:only-of-type {\n",
              "        vertical-align: middle;\n",
              "    }\n",
              "\n",
              "    .dataframe tbody tr th {\n",
              "        vertical-align: top;\n",
              "    }\n",
              "\n",
              "    .dataframe thead th {\n",
              "        text-align: right;\n",
              "    }\n",
              "</style>\n",
              "<table border=\"1\" class=\"dataframe\">\n",
              "  <thead>\n",
              "    <tr style=\"text-align: right;\">\n",
              "      <th></th>\n",
              "      <th>cbf_score</th>\n",
              "    </tr>\n",
              "  </thead>\n",
              "  <tbody>\n",
              "    <tr>\n",
              "      <th>count</th>\n",
              "      <td>3883.000000</td>\n",
              "    </tr>\n",
              "    <tr>\n",
              "      <th>mean</th>\n",
              "      <td>-inf</td>\n",
              "    </tr>\n",
              "    <tr>\n",
              "      <th>std</th>\n",
              "      <td>NaN</td>\n",
              "    </tr>\n",
              "    <tr>\n",
              "      <th>min</th>\n",
              "      <td>-inf</td>\n",
              "    </tr>\n",
              "    <tr>\n",
              "      <th>25%</th>\n",
              "      <td>0.954243</td>\n",
              "    </tr>\n",
              "    <tr>\n",
              "      <th>50%</th>\n",
              "      <td>1.000000</td>\n",
              "    </tr>\n",
              "    <tr>\n",
              "      <th>75%</th>\n",
              "      <td>1.000000</td>\n",
              "    </tr>\n",
              "    <tr>\n",
              "      <th>max</th>\n",
              "      <td>1.000000</td>\n",
              "    </tr>\n",
              "  </tbody>\n",
              "</table>\n",
              "</div><br><label><b>dtype:</b> float64</label>"
            ]
          },
          "metadata": {},
          "execution_count": 57
        }
      ]
    },
    {
      "cell_type": "code",
      "source": [
        "# add guard-rails so score can Infinities/nulls can be converted to 0\n",
        "cbf_scores_sdf = cbf_scores_sdf.withColumn(\n",
        "    \"cbf_score\", when(col(\"cbf_score\").isNull() |\n",
        "                      isnan(col(\"cbf_score\")) |\n",
        "                      (col(\"cbf_score\") == float(\"inf\")) |\n",
        "                      (col(\"cbf_score\") == float(\"-inf\")) |\n",
        "                      (col(\"cbf_score\") < float(-5e5)), 0.0).otherwise(col(\"cbf_score\")))\n"
      ],
      "metadata": {
        "id": "8ObBVvQ2n-7x"
      },
      "execution_count": 59,
      "outputs": []
    },
    {
      "cell_type": "markdown",
      "source": [],
      "metadata": {
        "id": "BRDHIcFiAz75"
      }
    },
    {
      "cell_type": "code",
      "source": [
        "# check Min and Max Cosine scores - should be between 0-1\n",
        "cbf_scores_sdf.select(spark_min(\"cbf_score\"),spark_max(\"cbf_score\")).show(truncate=False)"
      ],
      "metadata": {
        "colab": {
          "base_uri": "https://localhost:8080/"
        },
        "id": "Xxy5dXEMmaPw",
        "outputId": "7c4739d3-70e1-4a8d-d2ed-0bd92c600681"
      },
      "execution_count": 60,
      "outputs": [
        {
          "output_type": "stream",
          "name": "stdout",
          "text": [
            "+--------------+--------------+\n",
            "|min(cbf_score)|max(cbf_score)|\n",
            "+--------------+--------------+\n",
            "|0.0           |1.0           |\n",
            "+--------------+--------------+\n",
            "\n"
          ]
        }
      ]
    },
    {
      "cell_type": "markdown",
      "source": [],
      "metadata": {
        "id": "YwC4486t7HZo"
      }
    },
    {
      "cell_type": "markdown",
      "source": [
        "### Check for similiar movies by picking any random movie"
      ],
      "metadata": {
        "id": "a4LVKg4gC0HK"
      }
    },
    {
      "cell_type": "code",
      "source": [
        "movie_to_chk=3091\n",
        "movies_pd[movies_pd['movie_id']==movie_to_chk]"
      ],
      "metadata": {
        "colab": {
          "base_uri": "https://localhost:8080/",
          "height": 80
        },
        "id": "vCoYYZ_lh26j",
        "outputId": "7d307a5b-d5c4-4812-a4d8-c59326612dec"
      },
      "execution_count": 61,
      "outputs": [
        {
          "output_type": "execute_result",
          "data": {
            "text/plain": [
              "      movie_id             title     genres\n",
              "3022      3091  Kagemusha (1980)  Drama|War"
            ],
            "text/html": [
              "\n",
              "  <div id=\"df-61f3301f-647c-40ca-aed3-40ae372df054\" class=\"colab-df-container\">\n",
              "    <div>\n",
              "<style scoped>\n",
              "    .dataframe tbody tr th:only-of-type {\n",
              "        vertical-align: middle;\n",
              "    }\n",
              "\n",
              "    .dataframe tbody tr th {\n",
              "        vertical-align: top;\n",
              "    }\n",
              "\n",
              "    .dataframe thead th {\n",
              "        text-align: right;\n",
              "    }\n",
              "</style>\n",
              "<table border=\"1\" class=\"dataframe\">\n",
              "  <thead>\n",
              "    <tr style=\"text-align: right;\">\n",
              "      <th></th>\n",
              "      <th>movie_id</th>\n",
              "      <th>title</th>\n",
              "      <th>genres</th>\n",
              "    </tr>\n",
              "  </thead>\n",
              "  <tbody>\n",
              "    <tr>\n",
              "      <th>3022</th>\n",
              "      <td>3091</td>\n",
              "      <td>Kagemusha (1980)</td>\n",
              "      <td>Drama|War</td>\n",
              "    </tr>\n",
              "  </tbody>\n",
              "</table>\n",
              "</div>\n",
              "    <div class=\"colab-df-buttons\">\n",
              "\n",
              "  <div class=\"colab-df-container\">\n",
              "    <button class=\"colab-df-convert\" onclick=\"convertToInteractive('df-61f3301f-647c-40ca-aed3-40ae372df054')\"\n",
              "            title=\"Convert this dataframe to an interactive table.\"\n",
              "            style=\"display:none;\">\n",
              "\n",
              "  <svg xmlns=\"http://www.w3.org/2000/svg\" height=\"24px\" viewBox=\"0 -960 960 960\">\n",
              "    <path d=\"M120-120v-720h720v720H120Zm60-500h600v-160H180v160Zm220 220h160v-160H400v160Zm0 220h160v-160H400v160ZM180-400h160v-160H180v160Zm440 0h160v-160H620v160ZM180-180h160v-160H180v160Zm440 0h160v-160H620v160Z\"/>\n",
              "  </svg>\n",
              "    </button>\n",
              "\n",
              "  <style>\n",
              "    .colab-df-container {\n",
              "      display:flex;\n",
              "      gap: 12px;\n",
              "    }\n",
              "\n",
              "    .colab-df-convert {\n",
              "      background-color: #E8F0FE;\n",
              "      border: none;\n",
              "      border-radius: 50%;\n",
              "      cursor: pointer;\n",
              "      display: none;\n",
              "      fill: #1967D2;\n",
              "      height: 32px;\n",
              "      padding: 0 0 0 0;\n",
              "      width: 32px;\n",
              "    }\n",
              "\n",
              "    .colab-df-convert:hover {\n",
              "      background-color: #E2EBFA;\n",
              "      box-shadow: 0px 1px 2px rgba(60, 64, 67, 0.3), 0px 1px 3px 1px rgba(60, 64, 67, 0.15);\n",
              "      fill: #174EA6;\n",
              "    }\n",
              "\n",
              "    .colab-df-buttons div {\n",
              "      margin-bottom: 4px;\n",
              "    }\n",
              "\n",
              "    [theme=dark] .colab-df-convert {\n",
              "      background-color: #3B4455;\n",
              "      fill: #D2E3FC;\n",
              "    }\n",
              "\n",
              "    [theme=dark] .colab-df-convert:hover {\n",
              "      background-color: #434B5C;\n",
              "      box-shadow: 0px 1px 3px 1px rgba(0, 0, 0, 0.15);\n",
              "      filter: drop-shadow(0px 1px 2px rgba(0, 0, 0, 0.3));\n",
              "      fill: #FFFFFF;\n",
              "    }\n",
              "  </style>\n",
              "\n",
              "    <script>\n",
              "      const buttonEl =\n",
              "        document.querySelector('#df-61f3301f-647c-40ca-aed3-40ae372df054 button.colab-df-convert');\n",
              "      buttonEl.style.display =\n",
              "        google.colab.kernel.accessAllowed ? 'block' : 'none';\n",
              "\n",
              "      async function convertToInteractive(key) {\n",
              "        const element = document.querySelector('#df-61f3301f-647c-40ca-aed3-40ae372df054');\n",
              "        const dataTable =\n",
              "          await google.colab.kernel.invokeFunction('convertToInteractive',\n",
              "                                                    [key], {});\n",
              "        if (!dataTable) return;\n",
              "\n",
              "        const docLinkHtml = 'Like what you see? Visit the ' +\n",
              "          '<a target=\"_blank\" href=https://colab.research.google.com/notebooks/data_table.ipynb>data table notebook</a>'\n",
              "          + ' to learn more about interactive tables.';\n",
              "        element.innerHTML = '';\n",
              "        dataTable['output_type'] = 'display_data';\n",
              "        await google.colab.output.renderOutput(dataTable, element);\n",
              "        const docLink = document.createElement('div');\n",
              "        docLink.innerHTML = docLinkHtml;\n",
              "        element.appendChild(docLink);\n",
              "      }\n",
              "    </script>\n",
              "  </div>\n",
              "\n",
              "\n",
              "    </div>\n",
              "  </div>\n"
            ],
            "application/vnd.google.colaboratory.intrinsic+json": {
              "type": "dataframe",
              "summary": "{\n  \"name\": \"movies_pd[movies_pd['movie_id']==movie_to_chk]\",\n  \"rows\": 1,\n  \"fields\": [\n    {\n      \"column\": \"movie_id\",\n      \"properties\": {\n        \"dtype\": \"number\",\n        \"std\": null,\n        \"min\": 3091,\n        \"max\": 3091,\n        \"num_unique_values\": 1,\n        \"samples\": [\n          3091\n        ],\n        \"semantic_type\": \"\",\n        \"description\": \"\"\n      }\n    },\n    {\n      \"column\": \"title\",\n      \"properties\": {\n        \"dtype\": \"string\",\n        \"num_unique_values\": 1,\n        \"samples\": [\n          \"Kagemusha (1980)\"\n        ],\n        \"semantic_type\": \"\",\n        \"description\": \"\"\n      }\n    },\n    {\n      \"column\": \"genres\",\n      \"properties\": {\n        \"dtype\": \"string\",\n        \"num_unique_values\": 1,\n        \"samples\": [\n          \"Drama|War\"\n        ],\n        \"semantic_type\": \"\",\n        \"description\": \"\"\n      }\n    }\n  ]\n}"
            }
          },
          "metadata": {},
          "execution_count": 61
        }
      ]
    },
    {
      "cell_type": "code",
      "source": [
        "movies_pd[movies_pd['movie_id'].isin(faiss_neighbors.get(movie_to_chk))]\n",
        "#genres are very similar to chosen movie"
      ],
      "metadata": {
        "colab": {
          "base_uri": "https://localhost:8080/",
          "height": 419
        },
        "id": "ydAfNXLQiVJa",
        "outputId": "d1c546be-ab29-455a-92e5-bd03f256d1c6"
      },
      "execution_count": 62,
      "outputs": [
        {
          "output_type": "execute_result",
          "data": {
            "text/plain": [
              "      movie_id                                              title  \\\n",
              "33          34                                        Babe (1995)   \n",
              "40          41                                 Richard III (1995)   \n",
              "58          59        Confessional, The (Le Confessionnal) (1995)   \n",
              "111        113                            Before and After (1996)   \n",
              "153        155                              Beyond Rangoon (1995)   \n",
              "...        ...                                                ...   \n",
              "3732      3801                         Anatomy of a Murder (1959)   \n",
              "3739      3808                     Two Women (La Ciociara) (1961)   \n",
              "3742      3811                              Breaker Morant (1980)   \n",
              "3850      3920  Faraway, So Close (In Weiter Ferne, So Nah!) (...   \n",
              "3882      3952                              Contender, The (2000)   \n",
              "\n",
              "                       genres  \n",
              "33    Children's|Comedy|Drama  \n",
              "40                  Drama|War  \n",
              "58              Drama|Mystery  \n",
              "111             Drama|Mystery  \n",
              "153                 Drama|War  \n",
              "...                       ...  \n",
              "3732            Drama|Mystery  \n",
              "3739                Drama|War  \n",
              "3742                Drama|War  \n",
              "3850            Drama|Fantasy  \n",
              "3882           Drama|Thriller  \n",
              "\n",
              "[89 rows x 3 columns]"
            ],
            "text/html": [
              "\n",
              "  <div id=\"df-cedc5418-1b75-40c0-87dd-cd9e528d2848\" class=\"colab-df-container\">\n",
              "    <div>\n",
              "<style scoped>\n",
              "    .dataframe tbody tr th:only-of-type {\n",
              "        vertical-align: middle;\n",
              "    }\n",
              "\n",
              "    .dataframe tbody tr th {\n",
              "        vertical-align: top;\n",
              "    }\n",
              "\n",
              "    .dataframe thead th {\n",
              "        text-align: right;\n",
              "    }\n",
              "</style>\n",
              "<table border=\"1\" class=\"dataframe\">\n",
              "  <thead>\n",
              "    <tr style=\"text-align: right;\">\n",
              "      <th></th>\n",
              "      <th>movie_id</th>\n",
              "      <th>title</th>\n",
              "      <th>genres</th>\n",
              "    </tr>\n",
              "  </thead>\n",
              "  <tbody>\n",
              "    <tr>\n",
              "      <th>33</th>\n",
              "      <td>34</td>\n",
              "      <td>Babe (1995)</td>\n",
              "      <td>Children's|Comedy|Drama</td>\n",
              "    </tr>\n",
              "    <tr>\n",
              "      <th>40</th>\n",
              "      <td>41</td>\n",
              "      <td>Richard III (1995)</td>\n",
              "      <td>Drama|War</td>\n",
              "    </tr>\n",
              "    <tr>\n",
              "      <th>58</th>\n",
              "      <td>59</td>\n",
              "      <td>Confessional, The (Le Confessionnal) (1995)</td>\n",
              "      <td>Drama|Mystery</td>\n",
              "    </tr>\n",
              "    <tr>\n",
              "      <th>111</th>\n",
              "      <td>113</td>\n",
              "      <td>Before and After (1996)</td>\n",
              "      <td>Drama|Mystery</td>\n",
              "    </tr>\n",
              "    <tr>\n",
              "      <th>153</th>\n",
              "      <td>155</td>\n",
              "      <td>Beyond Rangoon (1995)</td>\n",
              "      <td>Drama|War</td>\n",
              "    </tr>\n",
              "    <tr>\n",
              "      <th>...</th>\n",
              "      <td>...</td>\n",
              "      <td>...</td>\n",
              "      <td>...</td>\n",
              "    </tr>\n",
              "    <tr>\n",
              "      <th>3732</th>\n",
              "      <td>3801</td>\n",
              "      <td>Anatomy of a Murder (1959)</td>\n",
              "      <td>Drama|Mystery</td>\n",
              "    </tr>\n",
              "    <tr>\n",
              "      <th>3739</th>\n",
              "      <td>3808</td>\n",
              "      <td>Two Women (La Ciociara) (1961)</td>\n",
              "      <td>Drama|War</td>\n",
              "    </tr>\n",
              "    <tr>\n",
              "      <th>3742</th>\n",
              "      <td>3811</td>\n",
              "      <td>Breaker Morant (1980)</td>\n",
              "      <td>Drama|War</td>\n",
              "    </tr>\n",
              "    <tr>\n",
              "      <th>3850</th>\n",
              "      <td>3920</td>\n",
              "      <td>Faraway, So Close (In Weiter Ferne, So Nah!) (...</td>\n",
              "      <td>Drama|Fantasy</td>\n",
              "    </tr>\n",
              "    <tr>\n",
              "      <th>3882</th>\n",
              "      <td>3952</td>\n",
              "      <td>Contender, The (2000)</td>\n",
              "      <td>Drama|Thriller</td>\n",
              "    </tr>\n",
              "  </tbody>\n",
              "</table>\n",
              "<p>89 rows × 3 columns</p>\n",
              "</div>\n",
              "    <div class=\"colab-df-buttons\">\n",
              "\n",
              "  <div class=\"colab-df-container\">\n",
              "    <button class=\"colab-df-convert\" onclick=\"convertToInteractive('df-cedc5418-1b75-40c0-87dd-cd9e528d2848')\"\n",
              "            title=\"Convert this dataframe to an interactive table.\"\n",
              "            style=\"display:none;\">\n",
              "\n",
              "  <svg xmlns=\"http://www.w3.org/2000/svg\" height=\"24px\" viewBox=\"0 -960 960 960\">\n",
              "    <path d=\"M120-120v-720h720v720H120Zm60-500h600v-160H180v160Zm220 220h160v-160H400v160Zm0 220h160v-160H400v160ZM180-400h160v-160H180v160Zm440 0h160v-160H620v160ZM180-180h160v-160H180v160Zm440 0h160v-160H620v160Z\"/>\n",
              "  </svg>\n",
              "    </button>\n",
              "\n",
              "  <style>\n",
              "    .colab-df-container {\n",
              "      display:flex;\n",
              "      gap: 12px;\n",
              "    }\n",
              "\n",
              "    .colab-df-convert {\n",
              "      background-color: #E8F0FE;\n",
              "      border: none;\n",
              "      border-radius: 50%;\n",
              "      cursor: pointer;\n",
              "      display: none;\n",
              "      fill: #1967D2;\n",
              "      height: 32px;\n",
              "      padding: 0 0 0 0;\n",
              "      width: 32px;\n",
              "    }\n",
              "\n",
              "    .colab-df-convert:hover {\n",
              "      background-color: #E2EBFA;\n",
              "      box-shadow: 0px 1px 2px rgba(60, 64, 67, 0.3), 0px 1px 3px 1px rgba(60, 64, 67, 0.15);\n",
              "      fill: #174EA6;\n",
              "    }\n",
              "\n",
              "    .colab-df-buttons div {\n",
              "      margin-bottom: 4px;\n",
              "    }\n",
              "\n",
              "    [theme=dark] .colab-df-convert {\n",
              "      background-color: #3B4455;\n",
              "      fill: #D2E3FC;\n",
              "    }\n",
              "\n",
              "    [theme=dark] .colab-df-convert:hover {\n",
              "      background-color: #434B5C;\n",
              "      box-shadow: 0px 1px 3px 1px rgba(0, 0, 0, 0.15);\n",
              "      filter: drop-shadow(0px 1px 2px rgba(0, 0, 0, 0.3));\n",
              "      fill: #FFFFFF;\n",
              "    }\n",
              "  </style>\n",
              "\n",
              "    <script>\n",
              "      const buttonEl =\n",
              "        document.querySelector('#df-cedc5418-1b75-40c0-87dd-cd9e528d2848 button.colab-df-convert');\n",
              "      buttonEl.style.display =\n",
              "        google.colab.kernel.accessAllowed ? 'block' : 'none';\n",
              "\n",
              "      async function convertToInteractive(key) {\n",
              "        const element = document.querySelector('#df-cedc5418-1b75-40c0-87dd-cd9e528d2848');\n",
              "        const dataTable =\n",
              "          await google.colab.kernel.invokeFunction('convertToInteractive',\n",
              "                                                    [key], {});\n",
              "        if (!dataTable) return;\n",
              "\n",
              "        const docLinkHtml = 'Like what you see? Visit the ' +\n",
              "          '<a target=\"_blank\" href=https://colab.research.google.com/notebooks/data_table.ipynb>data table notebook</a>'\n",
              "          + ' to learn more about interactive tables.';\n",
              "        element.innerHTML = '';\n",
              "        dataTable['output_type'] = 'display_data';\n",
              "        await google.colab.output.renderOutput(dataTable, element);\n",
              "        const docLink = document.createElement('div');\n",
              "        docLink.innerHTML = docLinkHtml;\n",
              "        element.appendChild(docLink);\n",
              "      }\n",
              "    </script>\n",
              "  </div>\n",
              "\n",
              "\n",
              "<div id=\"df-ee476d76-b596-419a-8749-3a65e25f24ec\">\n",
              "  <button class=\"colab-df-quickchart\" onclick=\"quickchart('df-ee476d76-b596-419a-8749-3a65e25f24ec')\"\n",
              "            title=\"Suggest charts\"\n",
              "            style=\"display:none;\">\n",
              "\n",
              "<svg xmlns=\"http://www.w3.org/2000/svg\" height=\"24px\"viewBox=\"0 0 24 24\"\n",
              "     width=\"24px\">\n",
              "    <g>\n",
              "        <path d=\"M19 3H5c-1.1 0-2 .9-2 2v14c0 1.1.9 2 2 2h14c1.1 0 2-.9 2-2V5c0-1.1-.9-2-2-2zM9 17H7v-7h2v7zm4 0h-2V7h2v10zm4 0h-2v-4h2v4z\"/>\n",
              "    </g>\n",
              "</svg>\n",
              "  </button>\n",
              "\n",
              "<style>\n",
              "  .colab-df-quickchart {\n",
              "      --bg-color: #E8F0FE;\n",
              "      --fill-color: #1967D2;\n",
              "      --hover-bg-color: #E2EBFA;\n",
              "      --hover-fill-color: #174EA6;\n",
              "      --disabled-fill-color: #AAA;\n",
              "      --disabled-bg-color: #DDD;\n",
              "  }\n",
              "\n",
              "  [theme=dark] .colab-df-quickchart {\n",
              "      --bg-color: #3B4455;\n",
              "      --fill-color: #D2E3FC;\n",
              "      --hover-bg-color: #434B5C;\n",
              "      --hover-fill-color: #FFFFFF;\n",
              "      --disabled-bg-color: #3B4455;\n",
              "      --disabled-fill-color: #666;\n",
              "  }\n",
              "\n",
              "  .colab-df-quickchart {\n",
              "    background-color: var(--bg-color);\n",
              "    border: none;\n",
              "    border-radius: 50%;\n",
              "    cursor: pointer;\n",
              "    display: none;\n",
              "    fill: var(--fill-color);\n",
              "    height: 32px;\n",
              "    padding: 0;\n",
              "    width: 32px;\n",
              "  }\n",
              "\n",
              "  .colab-df-quickchart:hover {\n",
              "    background-color: var(--hover-bg-color);\n",
              "    box-shadow: 0 1px 2px rgba(60, 64, 67, 0.3), 0 1px 3px 1px rgba(60, 64, 67, 0.15);\n",
              "    fill: var(--button-hover-fill-color);\n",
              "  }\n",
              "\n",
              "  .colab-df-quickchart-complete:disabled,\n",
              "  .colab-df-quickchart-complete:disabled:hover {\n",
              "    background-color: var(--disabled-bg-color);\n",
              "    fill: var(--disabled-fill-color);\n",
              "    box-shadow: none;\n",
              "  }\n",
              "\n",
              "  .colab-df-spinner {\n",
              "    border: 2px solid var(--fill-color);\n",
              "    border-color: transparent;\n",
              "    border-bottom-color: var(--fill-color);\n",
              "    animation:\n",
              "      spin 1s steps(1) infinite;\n",
              "  }\n",
              "\n",
              "  @keyframes spin {\n",
              "    0% {\n",
              "      border-color: transparent;\n",
              "      border-bottom-color: var(--fill-color);\n",
              "      border-left-color: var(--fill-color);\n",
              "    }\n",
              "    20% {\n",
              "      border-color: transparent;\n",
              "      border-left-color: var(--fill-color);\n",
              "      border-top-color: var(--fill-color);\n",
              "    }\n",
              "    30% {\n",
              "      border-color: transparent;\n",
              "      border-left-color: var(--fill-color);\n",
              "      border-top-color: var(--fill-color);\n",
              "      border-right-color: var(--fill-color);\n",
              "    }\n",
              "    40% {\n",
              "      border-color: transparent;\n",
              "      border-right-color: var(--fill-color);\n",
              "      border-top-color: var(--fill-color);\n",
              "    }\n",
              "    60% {\n",
              "      border-color: transparent;\n",
              "      border-right-color: var(--fill-color);\n",
              "    }\n",
              "    80% {\n",
              "      border-color: transparent;\n",
              "      border-right-color: var(--fill-color);\n",
              "      border-bottom-color: var(--fill-color);\n",
              "    }\n",
              "    90% {\n",
              "      border-color: transparent;\n",
              "      border-bottom-color: var(--fill-color);\n",
              "    }\n",
              "  }\n",
              "</style>\n",
              "\n",
              "  <script>\n",
              "    async function quickchart(key) {\n",
              "      const quickchartButtonEl =\n",
              "        document.querySelector('#' + key + ' button');\n",
              "      quickchartButtonEl.disabled = true;  // To prevent multiple clicks.\n",
              "      quickchartButtonEl.classList.add('colab-df-spinner');\n",
              "      try {\n",
              "        const charts = await google.colab.kernel.invokeFunction(\n",
              "            'suggestCharts', [key], {});\n",
              "      } catch (error) {\n",
              "        console.error('Error during call to suggestCharts:', error);\n",
              "      }\n",
              "      quickchartButtonEl.classList.remove('colab-df-spinner');\n",
              "      quickchartButtonEl.classList.add('colab-df-quickchart-complete');\n",
              "    }\n",
              "    (() => {\n",
              "      let quickchartButtonEl =\n",
              "        document.querySelector('#df-ee476d76-b596-419a-8749-3a65e25f24ec button');\n",
              "      quickchartButtonEl.style.display =\n",
              "        google.colab.kernel.accessAllowed ? 'block' : 'none';\n",
              "    })();\n",
              "  </script>\n",
              "</div>\n",
              "\n",
              "    </div>\n",
              "  </div>\n"
            ],
            "application/vnd.google.colaboratory.intrinsic+json": {
              "type": "dataframe",
              "summary": "{\n  \"name\": \"#genres are very similar to chosen movie\",\n  \"rows\": 89,\n  \"fields\": [\n    {\n      \"column\": \"movie_id\",\n      \"properties\": {\n        \"dtype\": \"number\",\n        \"std\": 1144,\n        \"min\": 34,\n        \"max\": 3952,\n        \"num_unique_values\": 89,\n        \"samples\": [\n          1936,\n          2079,\n          1224\n        ],\n        \"semantic_type\": \"\",\n        \"description\": \"\"\n      }\n    },\n    {\n      \"column\": \"title\",\n      \"properties\": {\n        \"dtype\": \"string\",\n        \"num_unique_values\": 89,\n        \"samples\": [\n          \"Mrs. Miniver (1942)\",\n          \"Kidnapped (1960)\",\n          \"Henry V (1989)\"\n        ],\n        \"semantic_type\": \"\",\n        \"description\": \"\"\n      }\n    },\n    {\n      \"column\": \"genres\",\n      \"properties\": {\n        \"dtype\": \"category\",\n        \"num_unique_values\": 14,\n        \"samples\": [\n          \"Drama|Fantasy\",\n          \"Crime|Drama|Mystery\",\n          \"Children's|Comedy|Drama\"\n        ],\n        \"semantic_type\": \"\",\n        \"description\": \"\"\n      }\n    }\n  ]\n}"
            }
          },
          "metadata": {},
          "execution_count": 62
        }
      ]
    },
    {
      "cell_type": "markdown",
      "source": [
        "## Create Hybrid RecSys"
      ],
      "metadata": {
        "id": "iSUKIzCvDExJ"
      }
    },
    {
      "cell_type": "markdown",
      "source": [
        "Weights are set to 0.5 for both CF and CBF in Hybrid score"
      ],
      "metadata": {
        "id": "XgCHuW4KN5TV"
      }
    },
    {
      "cell_type": "code",
      "source": [
        "# Join CF and CBF scores\n",
        "hybrid_scores = user_recs.join(cbf_scores_sdf, on=\"movie_id\", how=\"left\")\n",
        "\n",
        "# Handle missing values in CBF scores if any\n",
        "hybrid_scores = hybrid_scores.fillna({\"cbf_score\": 0.0})\n",
        "\n",
        "# Normalize CF scores to [0, 1] so it can be added with CBF\n",
        "cf_stats = hybrid_scores.select(spark_min(\"cf_score\").alias(\"cf_min\"), spark_max(\"cf_score\").alias(\"cf_max\")).first()\n",
        "\n",
        "cf_min, cf_max = cf_stats[\"cf_min\"], cf_stats[\"cf_max\"]\n",
        "\n",
        "hybrid_scores = hybrid_scores.withColumn(\"cf_score_norm\", (col(\"cf_score\") - lit(cf_min)) / (lit(cf_max) - lit(cf_min)))\n",
        "hybrid_scores = hybrid_scores.withColumn(\"hybrid_score\", expr(\"0.5 * cf_score_norm + 0.5 * cbf_score\"))\n"
      ],
      "metadata": {
        "id": "uLV__jSBxn1O"
      },
      "execution_count": 63,
      "outputs": []
    },
    {
      "cell_type": "code",
      "source": [
        "hybrid_scores.show()"
      ],
      "metadata": {
        "colab": {
          "base_uri": "https://localhost:8080/"
        },
        "id": "Scvb4RNrjDDZ",
        "outputId": "ee3acff3-ec6d-4f90-8f9f-17ac738f37e9"
      },
      "execution_count": 64,
      "outputs": [
        {
          "output_type": "stream",
          "name": "stdout",
          "text": [
            "+--------+-------+---------+------------------+-------------------+-------------------+\n",
            "|movie_id|user_id| cf_score|         cbf_score|      cf_score_norm|       hybrid_score|\n",
            "+--------+-------+---------+------------------+-------------------+-------------------+\n",
            "|      29|      5| 4.017146|0.9542426466941833| 0.3029198920979887|  0.628581269396086|\n",
            "|    3091|     17|4.6508794|               0.0|0.37257921078673134|0.18628960539336567|\n",
            "|      29|     22|3.8462017|0.9542426466941833| 0.2841298512470714| 0.6191862489706274|\n",
            "|    3091|     27| 4.734081|               0.0| 0.3817246252270764| 0.1908623126135382|\n",
            "|    3091|     40| 4.187794|               0.0| 0.3216773579854437|0.16083867899272186|\n",
            "|    3091|     81|5.1175833|               0.0| 0.4238788293124197|0.21193941465620986|\n",
            "|    2250|     85|4.7133617|               1.0|0.37944720811139127| 0.6897236040556957|\n",
            "|    1950|     88| 4.831393|               0.0|0.39242105868395394|0.19621052934197697|\n",
            "|     964|    101|5.2860756|               1.0| 0.4423993339612378| 0.7211996669806189|\n",
            "|     964|    103|4.6128616|               1.0|0.36840033828169216| 0.6842001691408461|\n",
            "|    3091|    107|4.1206555|               0.0|0.31429754325417253|0.15714877162708626|\n",
            "|    3091|    112|4.8223176|               0.0|0.39142352577226674|0.19571176288613337|\n",
            "|    3091|    115| 4.607417|               0.0|0.36780188143082815|0.18390094071541407|\n",
            "|      29|    120|3.8387516|0.9542426466941833|0.28331094339649343| 0.6187767950453384|\n",
            "|    3091|    128|5.4287944|               0.0|0.45808683885124957|0.22904341942562478|\n",
            "|    2529|    128|5.0057697|0.9542426466941833|0.41158839780435313| 0.6829155222492682|\n",
            "|    3091|    137| 4.240297|               0.0| 0.3274483940706805|0.16372419703534025|\n",
            "|      29|    139| 4.457874|0.9542426466941833|0.35136423514568893| 0.6528034409199361|\n",
            "|     964|    148|4.2664647|               1.0|0.33032473975834176| 0.6651623698791709|\n",
            "|      29|    152| 4.890228|0.9542426466941833|0.39888814547679924| 0.6765653960854913|\n",
            "+--------+-------+---------+------------------+-------------------+-------------------+\n",
            "only showing top 20 rows\n",
            "\n"
          ]
        }
      ]
    },
    {
      "cell_type": "markdown",
      "source": [
        "### Evaluation on all 3 models"
      ],
      "metadata": {
        "id": "c1Yn6OgjOADT"
      }
    },
    {
      "cell_type": "code",
      "source": [
        "# Join entire Ratings dataset for evaluation by keeping high Rated movies only\n",
        "relevant_set = ratings.filter(col(\"rating\") > 3.0).groupBy(\"user_id\").agg(collect_list(\"movie_id\").alias(\"relevant\"))\n"
      ],
      "metadata": {
        "id": "L-WBB5xu1Cia"
      },
      "execution_count": 69,
      "outputs": []
    },
    {
      "cell_type": "code",
      "source": [
        "# Evaluate precision@k and ndcg@k using Spark SQL array functions\n",
        "from pyspark.sql.functions import expr, collect_list, explode, size, array_intersect, array_position, array, sort_array\n",
        "\n",
        "def evaluate_recommender_variant(score_column):\n",
        "  # Generate recommendations\n",
        "  topk = 10\n",
        "  window = Window.partitionBy(\"user_id\").orderBy(col(score_column).desc())\n",
        "  top_recs = hybrid_scores.withColumn(\"rank\", row_number().over(window)).filter(col(\"rank\") <= topk).groupBy(\"user_id\").agg(collect_list(\"movie_id\").alias(\"recommended\"))\n",
        "\n",
        "  # Join with relevance info\n",
        "  eval_df = top_recs.join(relevant_set, on=\"user_id\", how=\"inner\")\n",
        "  eval_df = eval_df.withColumn(\"intersection\", array_intersect(\"recommended\", \"relevant\"))\n",
        "  eval_df = eval_df.withColumn(\"precision\", size(\"intersection\") / lit(topk))\n",
        "\n",
        "  eval_df = eval_df.withColumn(\"ordered_relevant\", sort_array(\"relevant\"))\n",
        "  eval_df = eval_df.withColumn(\"dcg\", expr(\"aggregate(sequence(0, size(recommended)-1), 0D, (acc, i) -> acc + IF(array_contains(relevant, recommended[i]), 1 / log2(i+2), 0))\"))\n",
        "  eval_df = eval_df.withColumn(\"idcg\", expr(\"aggregate(sequence(0, least(size(relevant), {0})-1), 0D, (acc, i) -> acc + 1 / log2(i+2))\".format(topk)))\n",
        "  eval_df = eval_df.withColumn(\"ndcg\", expr(\"IF(idcg > 0, dcg / idcg, 0)\"))\n",
        "\n",
        "  # Average metrics\n",
        "  results = eval_df.select(\"user_id\", \"precision\", \"ndcg\")\n",
        "  results.cache()\n",
        "\n",
        "  metrics = results.agg({\"precision\": \"avg\", \"ndcg\": \"avg\"}).first()\n",
        "  avg_precision = metrics[\"avg(precision)\"]\n",
        "  avg_ndcg = metrics[\"avg(ndcg)\"]\n",
        "\n",
        "  return avg_precision, avg_ndcg\n"
      ],
      "metadata": {
        "id": "fZLe0tnj3xNi"
      },
      "execution_count": 70,
      "outputs": []
    },
    {
      "cell_type": "code",
      "source": [
        "metrics_cf = evaluate_recommender_variant(\"cf_score_norm\")\n",
        "metrics_cbf = evaluate_recommender_variant(\"cbf_score\")\n",
        "metrics_hybrid = evaluate_recommender_variant(\"hybrid_score\")\n"
      ],
      "metadata": {
        "id": "hO2aUynQ5nls"
      },
      "execution_count": 71,
      "outputs": []
    },
    {
      "cell_type": "code",
      "source": [
        "# Print Comparison\n",
        "print(\"\\n--- Recommendation Quality Comparison ---\")\n",
        "print(f\"Model \\t\\t| {'Precision@k':<12} | {'NDCG@k'}\")\n",
        "print(f\"Collabarative | {metrics_cf[0]:<12.4f} | {metrics_cf[1]:.4f}\")\n",
        "print(f\"Content Based | {metrics_cbf[0]:<12.4f} | {metrics_cbf[1]:.4f}\")\n",
        "print(f\"Hybrid \\t\\t| {metrics_hybrid[0]:<12.4f} | {metrics_hybrid[1]:.4f}\")"
      ],
      "metadata": {
        "colab": {
          "base_uri": "https://localhost:8080/"
        },
        "id": "SFY7Pyjk6BeL",
        "outputId": "5750486b-feec-4f43-a04c-e722cca3f5ff"
      },
      "execution_count": 72,
      "outputs": [
        {
          "output_type": "stream",
          "name": "stdout",
          "text": [
            "\n",
            "--- Recommendation Quality Comparison ---\n",
            "Model \t\t| Precision@k  | NDCG@k\n",
            "Collabarative | 0.0926       | 0.0730\n",
            "Content Based | 0.0558       | 0.0536\n",
            "Hybrid \t\t| 0.0574       | 0.0453\n"
          ]
        }
      ]
    },
    {
      "cell_type": "markdown",
      "source": [
        "## Cold start strategies\n",
        "### For new users: Recommend top popular movies"
      ],
      "metadata": {
        "id": "7HRnfb1FJSXX"
      }
    },
    {
      "cell_type": "code",
      "source": [
        "topk=10\n",
        "popular_movies = train_ratings.groupBy(\"movie_id\").count().orderBy(col(\"count\").desc()).limit(topk)\n",
        "popular_movies.show()"
      ],
      "metadata": {
        "colab": {
          "base_uri": "https://localhost:8080/"
        },
        "id": "WPXdyAXuJeJx",
        "outputId": "b1ce7734-ac94-47f3-c0ce-20c5194ad89d"
      },
      "execution_count": 74,
      "outputs": [
        {
          "output_type": "stream",
          "name": "stdout",
          "text": [
            "+--------+-----+\n",
            "|movie_id|count|\n",
            "+--------+-----+\n",
            "|    2858| 2714|\n",
            "|    1196| 2407|\n",
            "|     260| 2384|\n",
            "|    1210| 2304|\n",
            "|     480| 2127|\n",
            "|    2028| 2118|\n",
            "|     589| 2095|\n",
            "|     593| 2076|\n",
            "|    2571| 2074|\n",
            "|    1270| 2059|\n",
            "+--------+-----+\n",
            "\n"
          ]
        }
      ]
    },
    {
      "cell_type": "markdown",
      "source": [
        "### For new items: Recommend to users with similar past rated genres"
      ],
      "metadata": {
        "id": "0JVv7L8CJhPo"
      }
    },
    {
      "cell_type": "code",
      "source": [
        "# Step 1: Build user genre profiles\n",
        "train_with_genres = train_ratings.join(movies.select(\"movie_id\", \"genres\"), on=\"movie_id\")\n",
        "user_genre_profile = train_with_genres.groupBy(\"user_id\", \"genres\").count()\n",
        "\n",
        "# Step 2: Recommend new items to users who rated similar genres in past\n",
        "new_items = movies.join(train_ratings, on=\"movie_id\", how=\"left_anti\")  # unseen items\n",
        "user_genre_profile = user_genre_profile.withColumnRenamed(\"genres\", \"user_genres\")\n",
        "new_item_candidates = new_items.join(user_genre_profile, new_items.genres == user_genre_profile.user_genres)\n",
        "\n",
        "recommended_new_items = new_item_candidates.groupBy(\"user_id\").agg(collect_list(\"movie_id\").alias(\"new_recommendations\"))\n",
        "recommended_new_items.show(truncate=False)\n"
      ],
      "metadata": {
        "id": "VpD-K1xGij-5",
        "colab": {
          "base_uri": "https://localhost:8080/"
        },
        "outputId": "fd441aa6-4d32-4fa4-fae6-7dad424839a7"
      },
      "execution_count": 75,
      "outputs": [
        {
          "output_type": "stream",
          "name": "stdout",
          "text": [
            "+-------+-----------------------------------------------------------------------------------------------------------------------------------------------------------------------------------------------------------------------------------------------------------------------------------------------------------------------------------------------------------------------------------------------------------------------------------------------------------------------------------------------------------------------------------------------------------------------------------------------------------------------------------------------------------------------------------------------------------------------------------------------------------------------------------------------------------------------------------------------------------------------------------------------------------------------------------------------------------------------------------------------------------------------------------------------------------------------------------------------------------------------------------------------------------+\n",
            "|user_id|new_recommendations                                                                                                                                                                                                                                                                                                                                                                                                                                                                                                                                                                                                                                                                                                                                                                                                                                                                                                                                                                                                                                                                                                                                        |\n",
            "+-------+-----------------------------------------------------------------------------------------------------------------------------------------------------------------------------------------------------------------------------------------------------------------------------------------------------------------------------------------------------------------------------------------------------------------------------------------------------------------------------------------------------------------------------------------------------------------------------------------------------------------------------------------------------------------------------------------------------------------------------------------------------------------------------------------------------------------------------------------------------------------------------------------------------------------------------------------------------------------------------------------------------------------------------------------------------------------------------------------------------------------------------------------------------------+\n",
            "|1      |[3231, 2838, 2601, 2319, 2230, 1166, 1158, 1143, 1001, 772, 739, 109, 3234, 2222, 1738, 1698, 1308, 1075, 871, 856, 797, 641, 115, 1868, 979, 2235, 1467, 1318, 1146, 657, 133, 2684, 1774, 1723, 1045, 819, 794, 2910, 1309, 654, 3907, 3856, 3750, 3583, 3582, 3560, 3411, 3277, 3202, 3191, 3164, 3059, 2957, 2845, 2680, 2603, 2592, 2588, 2564, 2480, 2274, 2254, 2229, 2225, 2224, 2220, 2216, 1820, 1819, 1708, 1705, 1628, 1557, 1524, 1156, 1140, 1109, 873, 872, 855, 812, 774, 770, 723, 721, 676, 636, 625, 620, 400, 396, 3561, 3558, 3195, 3009, 2980, 2958, 2954, 2832, 2547, 2508, 2489, 2228, 2030, 1789, 1781, 1776, 1768, 1757, 1716, 1710, 1706, 1577, 1559, 1400, 1368, 1316, 1157, 1155, 1141, 1052, 857, 845, 822, 816, 795, 773, 768, 738, 713, 699, 693, 629, 399, 395, 143, 142]                                                                                                                                                                                                                                                                                                                                                 |\n",
            "|2      |[1467, 1318, 1146, 657, 133, 2684, 1774, 1723, 1045, 819, 794, 3829, 3023, 825, 752, 3231, 2838, 2601, 2319, 2230, 1166, 1158, 1143, 1001, 772, 739, 109, 3234, 2222, 1738, 1698, 1308, 1075, 871, 856, 797, 641, 115, 3455, 1847, 1165, 675, 51, 3541, 1424, 1110, 3080, 2910, 1309, 654, 1868, 979, 2235, 2199, 1765, 1773, 1740, 139, 3907, 3856, 3750, 3583, 3582, 3560, 3411, 3277, 3202, 3191, 3164, 3059, 2957, 2845, 2680, 2603, 2592, 2588, 2564, 2480, 2274, 2254, 2229, 2225, 2224, 2220, 2216, 1820, 1819, 1708, 1705, 1628, 1557, 1524, 1156, 1140, 1109, 873, 872, 855, 812, 774, 770, 723, 721, 676, 636, 625, 620, 400, 396, 3561, 3558, 3195, 3009, 2980, 2958, 2954, 2832, 2547, 2508, 2489, 2228, 2030, 1789, 1781, 1776, 1768, 1757, 1716, 1710, 1706, 1577, 1559, 1400, 1368, 1316, 1157, 1155, 1141, 1052, 857, 845, 822, 816, 795, 773, 768, 738, 713, 699, 693, 629, 399, 395, 143, 142]                                                                                                                                                                                                                                           |\n",
            "|3      |[3231, 2838, 2601, 2319, 2230, 1166, 1158, 1143, 1001, 772, 739, 109, 3234, 2222, 1738, 1698, 1308, 1075, 871, 856, 797, 641, 115, 1467, 1318, 1146, 657, 133, 2684, 1774, 1723, 1045, 819, 794, 3455, 1847, 1165, 3907, 3856, 3750, 3583, 3582, 3560, 3411, 3277, 3202, 3191, 3164, 3059, 2957, 2845, 2680, 2603, 2592, 2588, 2564, 2480, 2274, 2254, 2229, 2225, 2224, 2220, 2216, 1820, 1819, 1708, 1705, 1628, 1557, 1524, 1156, 1140, 1109, 873, 872, 855, 812, 774, 770, 723, 721, 676, 636, 625, 620, 400, 396, 3561, 3558, 3195, 3009, 2980, 2958, 2954, 2832, 2547, 2508, 2489, 2228, 2030, 1789, 1781, 1776, 1768, 1757, 1716, 1710, 1706, 1577, 1559, 1400, 1368, 1316, 1157, 1155, 1141, 1052, 857, 845, 822, 816, 795, 773, 768, 738, 713, 699, 693, 629, 399, 395, 143, 142, 3170, 3279]                                                                                                                                                                                                                                                                                                                                                     |\n",
            "|4      |[3279, 3907, 3856, 3750, 3583, 3582, 3560, 3411, 3277, 3202, 3191, 3164, 3059, 2957, 2845, 2680, 2603, 2592, 2588, 2564, 2480, 2274, 2254, 2229, 2225, 2224, 2220, 2216, 1820, 1819, 1708, 1705, 1628, 1557, 1524, 1156, 1140, 1109, 873, 872, 855, 812, 774, 770, 723, 721, 676, 636, 625, 620, 400, 396, 3561, 3558, 3195, 3009, 2980, 2958, 2954, 2832, 2547, 2508, 2489, 2228, 2030, 1789, 1781, 1776, 1768, 1757, 1716, 1710, 1706, 1577, 1559, 1400, 1368, 1316, 1157, 1155, 1141, 1052, 857, 845, 822, 816, 795, 773, 768, 738, 713, 699, 693, 629, 399, 395, 143, 142, 1773, 1740, 139, 3541, 1424, 1110]                                                                                                                                                                                                                                                                                                                                                                                                                                                                                                                                          |\n",
            "|5      |[2199, 1765, 1742, 1578, 3369, 1697, 1430, 579, 3291, 890, 3829, 3023, 825, 752, 3231, 2838, 2601, 2319, 2230, 1166, 1158, 1143, 1001, 772, 739, 109, 3234, 2222, 1738, 1698, 1308, 1075, 871, 856, 797, 641, 115, 1159, 983, 1314, 1137, 894, 3907, 3856, 3750, 3583, 3582, 3560, 3411, 3277, 3202, 3191, 3164, 3059, 2957, 2845, 2680, 2603, 2592, 2588, 2564, 2480, 2274, 2254, 2229, 2225, 2224, 2220, 2216, 1820, 1819, 1708, 1705, 1628, 1557, 1524, 1156, 1140, 1109, 873, 872, 855, 812, 774, 770, 723, 721, 676, 636, 625, 620, 400, 396, 3561, 3558, 3195, 3009, 2980, 2958, 2954, 2832, 2547, 2508, 2489, 2228, 2030, 1789, 1781, 1776, 1768, 1757, 1716, 1710, 1706, 1577, 1559, 1400, 1368, 1316, 1157, 1155, 1141, 1052, 857, 845, 822, 816, 795, 773, 768, 738, 713, 699, 693, 629, 399, 395, 143, 142, 1467, 1318, 1146, 657, 133, 2684, 1774, 1723, 1045, 819, 794, 3455, 1847, 1165, 3080, 3630, 3589, 3650, 285, 3170, 3881, 3356, 3297, 3278, 2595, 1470, 1462, 1448, 1443, 1122, 1106, 727, 604, 3226, 3193, 3084, 2604, 2270, 1319, 1108, 683, 3541, 1424, 1110, 2910, 1309, 654, 3383, 3348, 1868, 979, 2235, 1773, 1740, 139, 3279]|\n",
            "|6      |[3907, 3856, 3750, 3583, 3582, 3560, 3411, 3277, 3202, 3191, 3164, 3059, 2957, 2845, 2680, 2603, 2592, 2588, 2564, 2480, 2274, 2254, 2229, 2225, 2224, 2220, 2216, 1820, 1819, 1708, 1705, 1628, 1557, 1524, 1156, 1140, 1109, 873, 872, 855, 812, 774, 770, 723, 721, 676, 636, 625, 620, 400, 396, 3561, 3558, 3195, 3009, 2980, 2958, 2954, 2832, 2547, 2508, 2489, 2228, 2030, 1789, 1781, 1776, 1768, 1757, 1716, 1710, 1706, 1577, 1559, 1400, 1368, 1316, 1157, 1155, 1141, 1052, 857, 845, 822, 816, 795, 773, 768, 738, 713, 699, 693, 629, 399, 395, 143, 142, 284, 2308, 3231, 2838, 2601, 2319, 2230, 1166, 1158, 1143, 1001, 772, 739, 109, 3234, 2222, 1738, 1698, 1308, 1075, 871, 856, 797, 641, 115, 3170, 3829, 3023, 825, 752, 1467, 1318, 1146, 657, 133, 2684, 1774, 1723, 1045, 819, 794, 1773, 1740, 139, 2910, 1309, 654, 3541, 1424, 1110, 3383]                                                                                                                                                                                                                                                                                  |\n",
            "|7      |[1773, 1740, 139, 3630, 3589, 3650]                                                                                                                                                                                                                                                                                                                                                                                                                                                                                                                                                                                                                                                                                                                                                                                                                                                                                                                                                                                                                                                                                                                        |\n",
            "|8      |[3455, 1847, 1165, 3829, 3023, 825, 752, 1568, 3541, 1424, 1110, 285, 1868, 979, 2235, 284, 2308, 1467, 1318, 1146, 657, 133, 2684, 1774, 1723, 1045, 819, 794, 3907, 3856, 3750, 3583, 3582, 3560, 3411, 3277, 3202, 3191, 3164, 3059, 2957, 2845, 2680, 2603, 2592, 2588, 2564, 2480, 2274, 2254, 2229, 2225, 2224, 2220, 2216, 1820, 1819, 1708, 1705, 1628, 1557, 1524, 1156, 1140, 1109, 873, 872, 855, 812, 774, 770, 723, 721, 676, 636, 625, 620, 400, 396, 3561, 3558, 3195, 3009, 2980, 2958, 2954, 2832, 2547, 2508, 2489, 2228, 2030, 1789, 1781, 1776, 1768, 1757, 1716, 1710, 1706, 1577, 1559, 1400, 1368, 1316, 1157, 1155, 1141, 1052, 857, 845, 822, 816, 795, 773, 768, 738, 713, 699, 693, 629, 399, 395, 143, 142, 1773, 1740, 139, 2910, 1309, 654, 2199, 1765]                                                                                                                                                                                                                                                                                                                                                                      |\n",
            "|9      |[1868, 979, 2235, 3881, 3356, 3297, 3278, 2595, 1470, 1462, 1448, 1443, 1122, 1106, 727, 604, 3226, 3193, 3084, 2604, 2270, 1319, 1108, 683, 1159, 983, 1314, 1137, 894, 1467, 1318, 1146, 657, 133, 2684, 1774, 1723, 1045, 819, 794, 3080, 3829, 3023, 825, 752, 3907, 3856, 3750, 3583, 3582, 3560, 3411, 3277, 3202, 3191, 3164, 3059, 2957, 2845, 2680, 2603, 2592, 2588, 2564, 2480, 2274, 2254, 2229, 2225, 2224, 2220, 2216, 1820, 1819, 1708, 1705, 1628, 1557, 1524, 1156, 1140, 1109, 873, 872, 855, 812, 774, 770, 723, 721, 676, 636, 625, 620, 400, 396, 3561, 3558, 3195, 3009, 2980, 2958, 2954, 2832, 2547, 2508, 2489, 2228, 2030, 1789, 1781, 1776, 1768, 1757, 1716, 1710, 1706, 1577, 1559, 1400, 1368, 1316, 1157, 1155, 1141, 1052, 857, 845, 822, 816, 795, 773, 768, 738, 713, 699, 693, 629, 399, 395, 143, 142, 1430, 579, 3291, 890, 3348, 3231, 2838, 2601, 2319, 2230, 1166, 1158, 1143, 1001, 772, 739, 109, 3234, 2222, 1738, 1698, 1308, 1075, 871, 856, 797, 641, 115, 3455, 1847, 1165, 2910, 1309, 654, 2199, 1765, 284, 2308]                                                                                         |\n",
            "|10     |[2910, 1309, 654, 285, 3231, 2838, 2601, 2319, 2230, 1166, 1158, 1143, 1001, 772, 739, 109, 3234, 2222, 1738, 1698, 1308, 1075, 871, 856, 797, 641, 115, 675, 51, 3279, 1467, 1318, 1146, 657, 133, 2684, 1774, 1723, 1045, 819, 794, 2199, 1765, 3829, 3023, 825, 752, 3630, 3589, 3650, 3907, 3856, 3750, 3583, 3582, 3560, 3411, 3277, 3202, 3191, 3164, 3059, 2957, 2845, 2680, 2603, 2592, 2588, 2564, 2480, 2274, 2254, 2229, 2225, 2224, 2220, 2216, 1820, 1819, 1708, 1705, 1628, 1557, 1524, 1156, 1140, 1109, 873, 872, 855, 812, 774, 770, 723, 721, 676, 636, 625, 620, 400, 396, 3561, 3558, 3195, 3009, 2980, 2958, 2954, 2832, 2547, 2508, 2489, 2228, 2030, 1789, 1781, 1776, 1768, 1757, 1716, 1710, 1706, 1577, 1559, 1400, 1368, 1316, 1157, 1155, 1141, 1052, 857, 845, 822, 816, 795, 773, 768, 738, 713, 699, 693, 629, 399, 395, 143, 142, 1159, 983, 1314, 1137, 894, 3881, 3356, 3297, 3278, 2595, 1470, 1462, 1448, 1443, 1122, 1106, 727, 604, 3226, 3193, 3084, 2604, 2270, 1319, 1108, 683, 777, 1868, 979, 2235, 3080, 3332, 3541, 1424, 1110, 1430, 579, 3291, 890]                                                         |\n",
            "|11     |[1430, 579, 3291, 890, 2910, 1309, 654, 2199, 1765, 1742, 1578, 3369, 1697, 3907, 3856, 3750, 3583, 3582, 3560, 3411, 3277, 3202, 3191, 3164, 3059, 2957, 2845, 2680, 2603, 2592, 2588, 2564, 2480, 2274, 2254, 2229, 2225, 2224, 2220, 2216, 1820, 1819, 1708, 1705, 1628, 1557, 1524, 1156, 1140, 1109, 873, 872, 855, 812, 774, 770, 723, 721, 676, 636, 625, 620, 400, 396, 3561, 3558, 3195, 3009, 2980, 2958, 2954, 2832, 2547, 2508, 2489, 2228, 2030, 1789, 1781, 1776, 1768, 1757, 1716, 1710, 1706, 1577, 1559, 1400, 1368, 1316, 1157, 1155, 1141, 1052, 857, 845, 822, 816, 795, 773, 768, 738, 713, 699, 693, 629, 399, 395, 143, 142, 3332, 3279, 1868, 979, 2235, 1467, 1318, 1146, 657, 133, 2684, 1774, 1723, 1045, 819, 794, 3231, 2838, 2601, 2319, 2230, 1166, 1158, 1143, 1001, 772, 739, 109, 3234, 2222, 1738, 1698, 1308, 1075, 871, 856, 797, 641, 115, 3630, 3589, 3650, 3829, 3023, 825, 752, 3348, 1773, 1740, 139, 3455, 1847, 1165, 3881, 3356, 3297, 3278, 2595, 1470, 1462, 1448, 1443, 1122, 1106, 727, 604, 3226, 3193, 3084, 2604, 2270, 1319, 1108, 683]                                                               |\n",
            "|12     |[2910, 1309, 654, 2698, 1742, 1578, 3369, 1697, 3231, 2838, 2601, 2319, 2230, 1166, 1158, 1143, 1001, 772, 739, 109, 3234, 2222, 1738, 1698, 1308, 1075, 871, 856, 797, 641, 115, 3907, 3856, 3750, 3583, 3582, 3560, 3411, 3277, 3202, 3191, 3164, 3059, 2957, 2845, 2680, 2603, 2592, 2588, 2564, 2480, 2274, 2254, 2229, 2225, 2224, 2220, 2216, 1820, 1819, 1708, 1705, 1628, 1557, 1524, 1156, 1140, 1109, 873, 872, 855, 812, 774, 770, 723, 721, 676, 636, 625, 620, 400, 396, 3561, 3558, 3195, 3009, 2980, 2958, 2954, 2832, 2547, 2508, 2489, 2228, 2030, 1789, 1781, 1776, 1768, 1757, 1716, 1710, 1706, 1577, 1559, 1400, 1368, 1316, 1157, 1155, 1141, 1052, 857, 845, 822, 816, 795, 773, 768, 738, 713, 699, 693, 629, 399, 395, 143, 142, 284, 2308, 3455, 1847, 1165, 3279, 1467, 1318, 1146, 657, 133, 2684, 1774, 1723, 1045, 819, 794, 403]                                                                                                                                                                                                                                                                                            |\n",
            "|13     |[3907, 3856, 3750, 3583, 3582, 3560, 3411, 3277, 3202, 3191, 3164, 3059, 2957, 2845, 2680, 2603, 2592, 2588, 2564, 2480, 2274, 2254, 2229, 2225, 2224, 2220, 2216, 1820, 1819, 1708, 1705, 1628, 1557, 1524, 1156, 1140, 1109, 873, 872, 855, 812, 774, 770, 723, 721, 676, 636, 625, 620, 400, 396, 3561, 3558, 3195, 3009, 2980, 2958, 2954, 2832, 2547, 2508, 2489, 2228, 2030, 1789, 1781, 1776, 1768, 1757, 1716, 1710, 1706, 1577, 1559, 1400, 1368, 1316, 1157, 1155, 1141, 1052, 857, 845, 822, 816, 795, 773, 768, 738, 713, 699, 693, 629, 399, 395, 143, 142, 2199, 1765, 284, 2308, 1868, 979, 2235, 3455, 1847, 1165, 3541, 1424, 1110, 3279, 2910, 1309, 654, 3348, 1773, 1740, 139, 3630, 3589, 3650]                                                                                                                                                                                                                                                                                                                                                                                                                                       |\n",
            "|14     |[3829, 3023, 825, 752, 2910, 1309, 654, 1467, 1318, 1146, 657, 133, 2684, 1774, 1723, 1045, 819, 794, 1773, 1740, 139, 1868, 979, 2235, 3630, 3589, 3650, 2698, 3907, 3856, 3750, 3583, 3582, 3560, 3411, 3277, 3202, 3191, 3164, 3059, 2957, 2845, 2680, 2603, 2592, 2588, 2564, 2480, 2274, 2254, 2229, 2225, 2224, 2220, 2216, 1820, 1819, 1708, 1705, 1628, 1557, 1524, 1156, 1140, 1109, 873, 872, 855, 812, 774, 770, 723, 721, 676, 636, 625, 620, 400, 396, 3561, 3558, 3195, 3009, 2980, 2958, 2954, 2832, 2547, 2508, 2489, 2228, 2030, 1789, 1781, 1776, 1768, 1757, 1716, 1710, 1706, 1577, 1559, 1400, 1368, 1316, 1157, 1155, 1141, 1052, 857, 845, 822, 816, 795, 773, 768, 738, 713, 699, 693, 629, 399, 395, 143, 142, 285, 3231, 2838, 2601, 2319, 2230, 1166, 1158, 1143, 1001, 772, 739, 109, 3234, 2222, 1738, 1698, 1308, 1075, 871, 856, 797, 641, 115]                                                                                                                                                                                                                                                                             |\n",
            "|15     |[3829, 3023, 825, 752, 3231, 2838, 2601, 2319, 2230, 1166, 1158, 1143, 1001, 772, 739, 109, 3234, 2222, 1738, 1698, 1308, 1075, 871, 856, 797, 641, 115, 3170, 2910, 1309, 654, 284, 2308, 1467, 1318, 1146, 657, 133, 2684, 1774, 1723, 1045, 819, 794, 2199, 1765, 1868, 979, 2235, 3383, 3348, 3630, 3589, 3650, 3279, 1773, 1740, 139, 1430, 579, 3291, 890, 3455, 1847, 1165, 3907, 3856, 3750, 3583, 3582, 3560, 3411, 3277, 3202, 3191, 3164, 3059, 2957, 2845, 2680, 2603, 2592, 2588, 2564, 2480, 2274, 2254, 2229, 2225, 2224, 2220, 2216, 1820, 1819, 1708, 1705, 1628, 1557, 1524, 1156, 1140, 1109, 873, 872, 855, 812, 774, 770, 723, 721, 676, 636, 625, 620, 400, 396, 3561, 3558, 3195, 3009, 2980, 2958, 2954, 2832, 2547, 2508, 2489, 2228, 2030, 1789, 1781, 1776, 1768, 1757, 1716, 1710, 1706, 1577, 1559, 1400, 1368, 1316, 1157, 1155, 1141, 1052, 857, 845, 822, 816, 795, 773, 768, 738, 713, 699, 693, 629, 399, 395, 143, 142]                                                                                                                                                                                                 |\n",
            "|16     |[1467, 1318, 1146, 657, 133, 2684, 1774, 1723, 1045, 819, 794, 3829, 3023, 825, 752, 3907, 3856, 3750, 3583, 3582, 3560, 3411, 3277, 3202, 3191, 3164, 3059, 2957, 2845, 2680, 2603, 2592, 2588, 2564, 2480, 2274, 2254, 2229, 2225, 2224, 2220, 2216, 1820, 1819, 1708, 1705, 1628, 1557, 1524, 1156, 1140, 1109, 873, 872, 855, 812, 774, 770, 723, 721, 676, 636, 625, 620, 400, 396, 3561, 3558, 3195, 3009, 2980, 2958, 2954, 2832, 2547, 2508, 2489, 2228, 2030, 1789, 1781, 1776, 1768, 1757, 1716, 1710, 1706, 1577, 1559, 1400, 1368, 1316, 1157, 1155, 1141, 1052, 857, 845, 822, 816, 795, 773, 768, 738, 713, 699, 693, 629, 399, 395, 143, 142, 284, 2308, 1430, 579, 3291, 890, 3231, 2838, 2601, 2319, 2230, 1166, 1158, 1143, 1001, 772, 739, 109, 3234, 2222, 1738, 1698, 1308, 1075, 871, 856, 797, 641, 115, 3630, 3589, 3650]                                                                                                                                                                                                                                                                                                          |\n",
            "|17     |[1868, 979, 2235, 3080, 2698, 1430, 579, 3291, 890, 3348, 2910, 1309, 654, 3907, 3856, 3750, 3583, 3582, 3560, 3411, 3277, 3202, 3191, 3164, 3059, 2957, 2845, 2680, 2603, 2592, 2588, 2564, 2480, 2274, 2254, 2229, 2225, 2224, 2220, 2216, 1820, 1819, 1708, 1705, 1628, 1557, 1524, 1156, 1140, 1109, 873, 872, 855, 812, 774, 770, 723, 721, 676, 636, 625, 620, 400, 396, 3561, 3558, 3195, 3009, 2980, 2958, 2954, 2832, 2547, 2508, 2489, 2228, 2030, 1789, 1781, 1776, 1768, 1757, 1716, 1710, 1706, 1577, 1559, 1400, 1368, 1316, 1157, 1155, 1141, 1052, 857, 845, 822, 816, 795, 773, 768, 738, 713, 699, 693, 629, 399, 395, 143, 142, 3630, 3589, 3650, 3541, 1424, 1110, 1467, 1318, 1146, 657, 133, 2684, 1774, 1723, 1045, 819, 794, 3829, 3023, 825, 752, 284, 2308, 2199, 1765, 1773, 1740, 139, 3231, 2838, 2601, 2319, 2230, 1166, 1158, 1143, 1001, 772, 739, 109, 3234, 2222, 1738, 1698, 1308, 1075, 871, 856, 797, 641, 115, 3455, 1847, 1165]                                                                                                                                                                                     |\n",
            "|18     |[1773, 1740, 139, 3348, 284, 2308, 1430, 579, 3291, 890, 2199, 1765, 3907, 3856, 3750, 3583, 3582, 3560, 3411, 3277, 3202, 3191, 3164, 3059, 2957, 2845, 2680, 2603, 2592, 2588, 2564, 2480, 2274, 2254, 2229, 2225, 2224, 2220, 2216, 1820, 1819, 1708, 1705, 1628, 1557, 1524, 1156, 1140, 1109, 873, 872, 855, 812, 774, 770, 723, 721, 676, 636, 625, 620, 400, 396, 3561, 3558, 3195, 3009, 2980, 2958, 2954, 2832, 2547, 2508, 2489, 2228, 2030, 1789, 1781, 1776, 1768, 1757, 1716, 1710, 1706, 1577, 1559, 1400, 1368, 1316, 1157, 1155, 1141, 1052, 857, 845, 822, 816, 795, 773, 768, 738, 713, 699, 693, 629, 399, 395, 143, 142, 3541, 1424, 1110, 1868, 979, 2235, 3231, 2838, 2601, 2319, 2230, 1166, 1158, 1143, 1001, 772, 739, 109, 3234, 2222, 1738, 1698, 1308, 1075, 871, 856, 797, 641, 115, 3332, 3455, 1847, 1165, 1467, 1318, 1146, 657, 133, 2684, 1774, 1723, 1045, 819, 794, 2910, 1309, 654, 675, 51, 3279]                                                                                                                                                                                                                    |\n",
            "|19     |[3080, 1868, 979, 2235, 3907, 3856, 3750, 3583, 3582, 3560, 3411, 3277, 3202, 3191, 3164, 3059, 2957, 2845, 2680, 2603, 2592, 2588, 2564, 2480, 2274, 2254, 2229, 2225, 2224, 2220, 2216, 1820, 1819, 1708, 1705, 1628, 1557, 1524, 1156, 1140, 1109, 873, 872, 855, 812, 774, 770, 723, 721, 676, 636, 625, 620, 400, 396, 3561, 3558, 3195, 3009, 2980, 2958, 2954, 2832, 2547, 2508, 2489, 2228, 2030, 1789, 1781, 1776, 1768, 1757, 1716, 1710, 1706, 1577, 1559, 1400, 1368, 1316, 1157, 1155, 1141, 1052, 857, 845, 822, 816, 795, 773, 768, 738, 713, 699, 693, 629, 399, 395, 143, 142, 2698, 3279, 3541, 1424, 1110, 3332, 284, 2308, 3231, 2838, 2601, 2319, 2230, 1166, 1158, 1143, 1001, 772, 739, 109, 3234, 2222, 1738, 1698, 1308, 1075, 871, 856, 797, 641, 115, 3630, 3589, 3650, 1467, 1318, 1146, 657, 133, 2684, 1774, 1723, 1045, 819, 794, 285, 3455, 1847, 1165, 1430, 579, 3291, 890, 3829, 3023, 825, 752, 3348]                                                                                                                                                                                                                  |\n",
            "|20     |[3348, 284, 2308, 1773, 1740, 139, 3231, 2838, 2601, 2319, 2230, 1166, 1158, 1143, 1001, 772, 739, 109, 3234, 2222, 1738, 1698, 1308, 1075, 871, 856, 797, 641, 115, 3829, 3023, 825, 752, 3907, 3856, 3750, 3583, 3582, 3560, 3411, 3277, 3202, 3191, 3164, 3059, 2957, 2845, 2680, 2603, 2592, 2588, 2564, 2480, 2274, 2254, 2229, 2225, 2224, 2220, 2216, 1820, 1819, 1708, 1705, 1628, 1557, 1524, 1156, 1140, 1109, 873, 872, 855, 812, 774, 770, 723, 721, 676, 636, 625, 620, 400, 396, 3561, 3558, 3195, 3009, 2980, 2958, 2954, 2832, 2547, 2508, 2489, 2228, 2030, 1789, 1781, 1776, 1768, 1757, 1716, 1710, 1706, 1577, 1559, 1400, 1368, 1316, 1157, 1155, 1141, 1052, 857, 845, 822, 816, 795, 773, 768, 738, 713, 699, 693, 629, 399, 395, 143, 142]                                                                                                                                                                                                                                                                                                                                                                                         |\n",
            "+-------+-----------------------------------------------------------------------------------------------------------------------------------------------------------------------------------------------------------------------------------------------------------------------------------------------------------------------------------------------------------------------------------------------------------------------------------------------------------------------------------------------------------------------------------------------------------------------------------------------------------------------------------------------------------------------------------------------------------------------------------------------------------------------------------------------------------------------------------------------------------------------------------------------------------------------------------------------------------------------------------------------------------------------------------------------------------------------------------------------------------------------------------------------------------+\n",
            "only showing top 20 rows\n",
            "\n"
          ]
        }
      ]
    },
    {
      "cell_type": "markdown",
      "source": [
        "### Show New movies"
      ],
      "metadata": {
        "id": "d65lP8oaJ6GL"
      }
    },
    {
      "cell_type": "code",
      "source": [
        "new_items.show()"
      ],
      "metadata": {
        "colab": {
          "base_uri": "https://localhost:8080/"
        },
        "id": "JaAFe9slxlgn",
        "outputId": "a40b0fa7-2384-4e23-9c91-c63acbd87748"
      },
      "execution_count": 76,
      "outputs": [
        {
          "output_type": "stream",
          "name": "stdout",
          "text": [
            "+--------+--------------------+--------------------+\n",
            "|movie_id|               title|              genres|\n",
            "+--------+--------------------+--------------------+\n",
            "|      51|Guardian Angel (1...|Action Drama Thri...|\n",
            "|     115|Happiness Is in t...|              Comedy|\n",
            "|     139|       Target (1995)|        Action Drama|\n",
            "|     142|Shadows (Cienie) ...|               Drama|\n",
            "|     143|        Gospa (1995)|               Drama|\n",
            "|     395| Desert Winds (1995)|               Drama|\n",
            "|     399|Girl in the Cadil...|               Drama|\n",
            "|     403|   Two Crimes (1995)|  Comedy Crime Drama|\n",
            "|     629|         Rude (1995)|               Drama|\n",
            "|     641|Little Indian, Bi...|              Comedy|\n",
            "|     654|Und keiner weint ...|       Drama Romance|\n",
            "|     675|Hostile Intention...|Action Drama Thri...|\n",
            "|     683|Eye of Vichy, The...|         Documentary|\n",
            "|     693|Under the Domin T...|               Drama|\n",
            "|     699|To Cross the Rubi...|               Drama|\n",
            "|     713|Of Love and Shado...|               Drama|\n",
            "|     738|    Garcu, Le (1995)|               Drama|\n",
            "|     752|Vermont Is For Lo...|      Comedy Romance|\n",
            "|     768|Someone Else's Am...|               Drama|\n",
            "|     773|Touki Bouki (Jour...|               Drama|\n",
            "+--------+--------------------+--------------------+\n",
            "only showing top 20 rows\n",
            "\n"
          ]
        }
      ]
    },
    {
      "cell_type": "code",
      "source": [
        "ratings.filter(col(\"movie_id\")==51).show() #verify if its new movie, not rated in past"
      ],
      "metadata": {
        "colab": {
          "base_uri": "https://localhost:8080/"
        },
        "id": "NLjclVnMxx_R",
        "outputId": "dd88e586-5675-4df4-debd-b396d9048705"
      },
      "execution_count": 77,
      "outputs": [
        {
          "output_type": "stream",
          "name": "stdout",
          "text": [
            "+-------+--------+------+\n",
            "|user_id|movie_id|rating|\n",
            "+-------+--------+------+\n",
            "+-------+--------+------+\n",
            "\n"
          ]
        }
      ]
    },
    {
      "cell_type": "code",
      "source": [
        "spark.stop()"
      ],
      "metadata": {
        "id": "Qv7CavosyQaP"
      },
      "execution_count": 78,
      "outputs": []
    }
  ]
}